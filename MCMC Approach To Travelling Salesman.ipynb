{
 "cells": [
  {
   "cell_type": "markdown",
   "id": "130ad608",
   "metadata": {},
   "source": [
    "# MCMC Approach to Travelling Salesman Problem"
   ]
  },
  {
   "cell_type": "markdown",
   "id": "a479d63a",
   "metadata": {},
   "source": [
    "---"
   ]
  },
  {
   "cell_type": "markdown",
   "id": "658da611",
   "metadata": {},
   "source": [
    "Author: Agosh Saini \n",
    "Contact: Agosh.Saini@Gamil.com\n",
    "Website: agoshsaini.com"
   ]
  },
  {
   "cell_type": "markdown",
   "id": "8a20e647",
   "metadata": {},
   "source": [
    "Link to Paper Used: https://www.webpages.uidaho.edu/~stevel/565/literature/tsp.pdf"
   ]
  },
  {
   "cell_type": "markdown",
   "id": "8e0bb235",
   "metadata": {},
   "source": [
    "---"
   ]
  },
  {
   "cell_type": "markdown",
   "id": "c3977a29",
   "metadata": {},
   "source": [
    "Importing The Modules Rquired For This Project"
   ]
  },
  {
   "cell_type": "code",
   "execution_count": 1,
   "id": "cfedb92c",
   "metadata": {},
   "outputs": [],
   "source": [
    "# Importing\n",
    "import numpy as np\n",
    "import matplotlib.pyplot as plt"
   ]
  },
  {
   "cell_type": "markdown",
   "id": "1edc2714",
   "metadata": {},
   "source": [
    "The following function calculates the distance between two points"
   ]
  },
  {
   "cell_type": "code",
   "execution_count": 2,
   "id": "2df5a106",
   "metadata": {},
   "outputs": [],
   "source": [
    "def distance(cord1, cord2):\n",
    "    x = cord2[0] - cord1[0]\n",
    "    y = cord2[1] - cord1[1]\n",
    "    return np.sqrt(np.sum(np.power((x, y), 2)))"
   ]
  },
  {
   "cell_type": "markdown",
   "id": "bd2f35a9",
   "metadata": {},
   "source": [
    "The following function allows you to calculate total distance based on a given route"
   ]
  },
  {
   "cell_type": "code",
   "execution_count": 3,
   "id": "5f87755b",
   "metadata": {},
   "outputs": [],
   "source": [
    "def total_distance(route):\n",
    "    path = 0\n",
    "    \n",
    "    # making the for loop circular using mod (%)\n",
    "    for i in range(len(route)): \n",
    "        path += distance(route[i],  route[(i+1) % len(route)])\n",
    "    \n",
    "    return path"
   ]
  },
  {
   "cell_type": "markdown",
   "id": "511386ed",
   "metadata": {},
   "source": [
    "The algorithm used is called Metropolis. This method is a Monte Carlo Markov Chain (MCMC) approach to estimate global minimas. The assumption is that as iterations (n) approaches infinity, we will get closer and closer to the most efficient route.\n",
    "\n",
    "Below, the function determines which route is better in terms of distance, and even if a route is not the best, sometimes its better to accept unfavourable route to prevent getting stuck in local mimimas"
   ]
  },
  {
   "cell_type": "code",
   "execution_count": 4,
   "id": "efc66d86",
   "metadata": {},
   "outputs": [],
   "source": [
    "def route_acceptance(route_1, route_2, KbT):\n",
    "    \n",
    "    # determine if second route is worse than first\n",
    "    \n",
    "    del_energy =  total_distance(route_2) - total_distance(route_1)\n",
    "    \n",
    "    if del_energy < 0 or np.random.random_sample() < np.exp(-del_energy/KbT) > np.random.random_sample():\n",
    "        \n",
    "        return route_2\n",
    "    else:\n",
    "        \n",
    "        return route_1    "
   ]
  },
  {
   "cell_type": "markdown",
   "id": "dff67346",
   "metadata": {},
   "source": [
    "Lastly, the MCMC method function can be found below, This function just repeats the process for n interations"
   ]
  },
  {
   "cell_type": "code",
   "execution_count": 5,
   "id": "42277576",
   "metadata": {},
   "outputs": [],
   "source": [
    "def travelling_salesman(route, n_iter, KbT=1.0):\n",
    "    \n",
    "    for _ in range(n_iter):\n",
    "    \n",
    "        # making a copy of the route\n",
    "        changed_route = np.copy(route)\n",
    "\n",
    "        # chose two points to switch by picking random index and switching them\n",
    "        index_1, index_2 = np.random.choice(len(route), size=2, replace=False)\n",
    "        changed_route[index_1] = route[index_2]\n",
    "        changed_route[index_2] = route[index_1]\n",
    "        \n",
    "        # calculate if the switch is favorable or not\n",
    "        preffered_route = route_acceptance(route, changed_route, KbT=KbT)\n",
    "    \n",
    "        total_path = total_distance(preffered_route)\n",
    "        \n",
    "    return preffered_route, total_path"
   ]
  },
  {
   "cell_type": "markdown",
   "id": "cdc29f94",
   "metadata": {},
   "source": [
    "Testing the method below, lets say the points are the following"
   ]
  },
  {
   "cell_type": "code",
   "execution_count": 6,
   "id": "9a8df3d5",
   "metadata": {},
   "outputs": [
    {
     "name": "stdout",
     "output_type": "stream",
     "text": [
      "distance: 12.307135789365265\n"
     ]
    }
   ],
   "source": [
    "pos = np.array([[0,0], [1,1], [2,2], [3,3], [4,3], [5,2], [3,2], [2,1]])\n",
    "print(f'distance: {total_distance(pos)}')"
   ]
  },
  {
   "cell_type": "markdown",
   "id": "c6a2ad78",
   "metadata": {},
   "source": [
    "This would look like this on a map"
   ]
  },
  {
   "cell_type": "code",
   "execution_count": 7,
   "id": "85c8e46f",
   "metadata": {},
   "outputs": [
    {
     "data": {
      "text/plain": [
       "Text(0.5, 1.0, 'Position of cities')"
      ]
     },
     "execution_count": 7,
     "metadata": {},
     "output_type": "execute_result"
    },
    {
     "data": {
      "image/png": "[encoded data removed]",
      "text/plain": [
       "<Figure size 640x480 with 1 Axes>"
      ]
     },
     "metadata": {},
     "output_type": "display_data"
    }
   ],
   "source": [
    "x, y = zip(*pos)\n",
    "plt.plot(x, y, '-o')\n",
    "plt.xlabel('x')\n",
    "plt.ylabel('y')\n",
    "plt.title('Position of cities')"
   ]
  },
  {
   "cell_type": "markdown",
   "id": "74446b4e",
   "metadata": {},
   "source": [
    "Lets randomize this sequence and put it through, for this example we can tell what the best path will be, so it is a good starting point"
   ]
  },
  {
   "cell_type": "code",
   "execution_count": 8,
   "id": "aefe0222",
   "metadata": {},
   "outputs": [
    {
     "name": "stdout",
     "output_type": "stream",
     "text": [
      "route: [[2 1]\n",
      " [0 0]\n",
      " [3 2]\n",
      " [4 3]\n",
      " [2 2]\n",
      " [1 1]\n",
      " [3 3]\n",
      " [5 2]]\n",
      "distance: 19.13288711762412\n"
     ]
    }
   ],
   "source": [
    "route = np.random.default_rng().permutation(pos)\n",
    "\n",
    "print(f'route: {route}')\n",
    "print(f'distance: {total_distance(route)}')"
   ]
  },
  {
   "cell_type": "markdown",
   "id": "90df91e5",
   "metadata": {},
   "source": [
    "Putting the array through the function we created. Lets say KbT = 10 and n_iter = 1000"
   ]
  },
  {
   "cell_type": "code",
   "execution_count": 9,
   "id": "f1cad8be",
   "metadata": {},
   "outputs": [],
   "source": [
    "route_optimized, path_distance = travelling_salesman(route, 1000, KbT=10)"
   ]
  },
  {
   "cell_type": "markdown",
   "id": "b2a4b2ec",
   "metadata": {},
   "source": [
    "Plotting the route"
   ]
  },
  {
   "cell_type": "code",
   "execution_count": 10,
   "id": "09b9cf81",
   "metadata": {},
   "outputs": [
    {
     "name": "stdout",
     "output_type": "stream",
     "text": [
      "route: [[4 3]\n",
      " [0 0]\n",
      " [3 2]\n",
      " [2 1]\n",
      " [2 2]\n",
      " [1 1]\n",
      " [3 3]\n",
      " [5 2]]\n",
      "distance: 18.912687064829257\n"
     ]
    }
   ],
   "source": [
    "print(f'route: {route_optimized}')\n",
    "print(f'distance: {path_distance}')"
   ]
  },
  {
   "cell_type": "markdown",
   "id": "c620ec29",
   "metadata": {},
   "source": [
    "Lets repeat with higher iterations and see what we get"
   ]
  },
  {
   "cell_type": "code",
   "execution_count": 11,
   "id": "cc97fe70",
   "metadata": {},
   "outputs": [
    {
     "name": "stdout",
     "output_type": "stream",
     "text": [
      "route: [[2 1]\n",
      " [0 0]\n",
      " [3 2]\n",
      " [4 3]\n",
      " [2 2]\n",
      " [5 2]\n",
      " [3 3]\n",
      " [1 1]]\n",
      "distance: 18.556395895082645\n"
     ]
    }
   ],
   "source": [
    "route_optimized, path_distance = travelling_salesman(route, 10000, KbT=10)\n",
    "print(f'route: {route_optimized}')\n",
    "print(f'distance: {path_distance}')"
   ]
  },
  {
   "cell_type": "markdown",
   "id": "27f7ab26",
   "metadata": {},
   "source": [
    "Repeating with a smaller KbT"
   ]
  },
  {
   "cell_type": "code",
   "execution_count": 12,
   "id": "bb3805bc",
   "metadata": {},
   "outputs": [
    {
     "name": "stdout",
     "output_type": "stream",
     "text": [
      "route: [[2 1]\n",
      " [0 0]\n",
      " [3 2]\n",
      " [4 3]\n",
      " [1 1]\n",
      " [2 2]\n",
      " [3 3]\n",
      " [5 2]]\n",
      "distance: 19.088156853215224\n"
     ]
    }
   ],
   "source": [
    "route_optimized, path_distance = travelling_salesman(route, 1000, KbT=0.1)\n",
    "print(f'route: {route_optimized}')\n",
    "print(f'distance: {path_distance}')"
   ]
  },
  {
   "cell_type": "markdown",
   "id": "8ce74e6c",
   "metadata": {},
   "source": [
    "And Repeating with higher number of iterations and lower KbT"
   ]
  },
  {
   "cell_type": "code",
   "execution_count": 13,
   "id": "de4e31c2",
   "metadata": {},
   "outputs": [
    {
     "name": "stdout",
     "output_type": "stream",
     "text": [
      "route: [[2 1]\n",
      " [3 3]\n",
      " [3 2]\n",
      " [4 3]\n",
      " [2 2]\n",
      " [1 1]\n",
      " [0 0]\n",
      " [5 2]]\n",
      "distance: 18.262219109421746\n"
     ]
    }
   ],
   "source": [
    "route_optimized, path_distance = travelling_salesman(route, 10000, KbT=0.1)\n",
    "print(f'route: {route_optimized}')\n",
    "print(f'distance: {path_distance}')"
   ]
  },
  {
   "cell_type": "markdown",
   "id": "0445f262",
   "metadata": {},
   "source": [
    "Lastly Repeating with KbT = 1 and n = 1000 to get a baseline t0 compare everything to"
   ]
  },
  {
   "cell_type": "code",
   "execution_count": 14,
   "id": "fdbd5c39",
   "metadata": {},
   "outputs": [
    {
     "name": "stdout",
     "output_type": "stream",
     "text": [
      "route: [[2 1]\n",
      " [0 0]\n",
      " [5 2]\n",
      " [4 3]\n",
      " [2 2]\n",
      " [1 1]\n",
      " [3 3]\n",
      " [3 2]]\n",
      "distance: 17.92836857399956\n"
     ]
    }
   ],
   "source": [
    "route_optimized, path_distance = travelling_salesman(route, 1000, KbT=1)\n",
    "print(f'route: {route_optimized}')\n",
    "print(f'distance: {path_distance}')"
   ]
  },
  {
   "cell_type": "markdown",
   "id": "2149a857",
   "metadata": {},
   "source": [
    "As we can see that the KbT controls how often the values will be conditionally rearranged. Picking the right KbT requires experimentation of the system with known solutions, like the example seen in this file. The n-iterations should be optimized so that once the equilibrium point has been reached, the system stops after certain iterations. "
   ]
  },
  {
   "cell_type": "code",
   "execution_count": null,
   "id": "61204d22",
   "metadata": {},
   "outputs": [],
   "source": []
  }
 ],
 "metadata": {
  "kernelspec": {
   "display_name": "Python 3 (ipykernel)",
   "language": "python",
   "name": "python3"
  },
  "language_info": {
   "codemirror_mode": {
    "name": "ipython",
    "version": 3
   },
   "file_extension": ".py",
   "mimetype": "text/x-python",
   "name": "python",
   "nbconvert_exporter": "python",
   "pygments_lexer": "ipython3",
   "version": "3.10.1"
  }
 },
 "nbformat": 4,
 "nbformat_minor": 5
}
