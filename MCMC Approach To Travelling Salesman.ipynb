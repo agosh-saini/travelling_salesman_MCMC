{
 "cells": [
  {
   "cell_type": "markdown",
   "id": "130ad608",
   "metadata": {},
   "source": [
    "# MCMC Approach to Travelling Salesman Problem"
   ]
  },
  {
   "cell_type": "markdown",
   "id": "a479d63a",
   "metadata": {},
   "source": [
    "---"
   ]
  },
  {
   "cell_type": "markdown",
   "id": "658da611",
   "metadata": {},
   "source": [
    "Author: Agosh Saini \n",
    "Contact: Agosh.Saini@Gamil.com\n",
    "Website: agoshsaini.com"
   ]
  },
  {
   "cell_type": "markdown",
   "id": "8a20e647",
   "metadata": {},
   "source": [
    "Link to Paper Used: https://www.webpages.uidaho.edu/~stevel/565/literature/tsp.pdf"
   ]
  },
  {
   "cell_type": "markdown",
   "id": "8e0bb235",
   "metadata": {},
   "source": [
    "---"
   ]
  },
  {
   "cell_type": "markdown",
   "id": "c3977a29",
   "metadata": {},
   "source": [
    "Importing The Modules Rquired For This Project"
   ]
  },
  {
   "cell_type": "code",
   "execution_count": 5,
   "id": "cfedb92c",
   "metadata": {},
   "outputs": [],
   "source": [
    "# Importing\n",
    "import numpy as np\n",
    "import matplotlib.pyplot as plt"
   ]
  },
  {
   "cell_type": "markdown",
   "id": "1edc2714",
   "metadata": {},
   "source": [
    "The following function calculates the distance between two points"
   ]
  },
  {
   "cell_type": "code",
   "execution_count": 6,
   "id": "2df5a106",
   "metadata": {},
   "outputs": [],
   "source": [
    "def distance(x, y):\n",
    "    return np.sqrt(np.sum(np.power((x y), 2)))"
   ]
  },
  {
   "cell_type": "markdown",
   "id": "bd2f35a9",
   "metadata": {},
   "source": [
    "The following function allows you to calculate total distance based on a given route"
   ]
  },
  {
   "cell_type": "code",
   "execution_count": 7,
   "id": "5f87755b",
   "metadata": {},
   "outputs": [],
   "source": [
    "def total_distance(route):\n",
    "    distance = 0\n",
    "    \n",
    "    # making the for loop circular using mod (%)\n",
    "    for i in range(len(route)): \n",
    "        distance += distance(route[i] + route[(i+1) % len(route)])\n",
    "    \n",
    "    return distance"
   ]
  },
  {
   "cell_type": "markdown",
   "id": "511386ed",
   "metadata": {},
   "source": [
    "The algorithm used is called Metropolis. This method is a Monte Carlo Markov Chain (MCMC) approach to estimate global minimas. The assumption is that as iterations (n) approaches infinity, we will get closer and closer to the most efficient route."
   ]
  },
  {
   "cell_type": "code",
   "execution_count": null,
   "id": "efc66d86",
   "metadata": {},
   "outputs": [],
   "source": [
    "def metrapolis(cities, route, KbT, n_iter):\n",
    "    \n",
    "    # making copy of the route\n",
    "    new_route = np.copy(route)"
   ]
  }
 ],
 "metadata": {
  "kernelspec": {
   "display_name": "Python 3 (ipykernel)",
   "language": "python",
   "name": "python3"
  },
  "language_info": {
   "codemirror_mode": {
    "name": "ipython",
    "version": 3
   },
   "file_extension": ".py",
   "mimetype": "text/x-python",
   "name": "python",
   "nbconvert_exporter": "python",
   "pygments_lexer": "ipython3",
   "version": "3.10.1"
  }
 },
 "nbformat": 4,
 "nbformat_minor": 5
}
